{
 "cells": [
  {
   "cell_type": "markdown",
   "metadata": {
    "id": "6xEQLX069Qhz"
   },
   "source": [
    "## Lab 2: Getting to Know Your Data \n",
    "\n",
    "In this lab you are going to learn how understand and query your dataset in Python using Pandas, Numpy and Matplotlib packages. \n",
    "\n",
    "You will learn how to implement some basic similarity distances."
   ]
  },
  {
   "cell_type": "markdown",
   "metadata": {
    "id": "NVre6BjVZ3Zc"
   },
   "source": [
    "### 1. Similarity and Distance Measures Between Data\n",
    "\n",
    "The below dataset (\"data.h5\") contains:\n",
    "\n",
    "- a training set of images labeled as cat (y=1) or non-cat (y=0).\n",
    "\n",
    "Each image is of shape (num_px, num_px, 3) where 3 is for the 3 channels (RGB). Thus, each image is square (height = num_px) and (width = num_px). Let's get more familiar with the dataset. Load the data by running the following code."
   ]
  },
  {
   "cell_type": "code",
   "execution_count": 6,
   "metadata": {
    "executionInfo": {
     "elapsed": 5100,
     "status": "ok",
     "timestamp": 1614715487875,
     "user": {
      "displayName": "Mouna Kacimi",
      "photoUrl": "",
      "userId": "13741257071130912570"
     },
     "user_tz": -60
    },
    "id": "aWzYYrEEfCUm"
   },
   "outputs": [
    {
     "data": {
      "text/plain": [
       "(209, 64, 64, 3)"
      ]
     },
     "execution_count": 6,
     "metadata": {},
     "output_type": "execute_result"
    }
   ],
   "source": [
    "import h5py\n",
    "import numpy as np\n",
    "from numpy import linalg as LA\n",
    "dataset2 = h5py.File('train_catvnoncat.h5', \"r\")\n",
    "images = np.array(dataset2[\"train_set_x\"][:])\n",
    "images.shape"
   ]
  },
  {
   "cell_type": "markdown",
   "metadata": {
    "id": "ubJeYg2_L91t"
   },
   "source": [
    "Each line of your dataset of images is an array representing an image. You can visualize an example by running the following code. Feel free also to change the index value and re-run to see other images."
   ]
  },
  {
   "cell_type": "code",
   "execution_count": 7,
   "metadata": {
    "colab": {
     "base_uri": "https://localhost:8080/",
     "height": 286
    },
    "executionInfo": {
     "elapsed": 801,
     "status": "ok",
     "timestamp": 1614715491511,
     "user": {
      "displayName": "Mouna Kacimi",
      "photoUrl": "",
      "userId": "13741257071130912570"
     },
     "user_tz": -60
    },
    "id": "qVWrbg7Ak6mx",
    "outputId": "800c0940-e241-40f8-a254-87c0b60f963e"
   },
   "outputs": [
    {
     "data": {
      "text/plain": [
       "<matplotlib.image.AxesImage at 0x12ae9ced0>"
      ]
     },
     "execution_count": 7,
     "metadata": {},
     "output_type": "execute_result"
    },
    {
     "data": {
      "image/png": "[encoded data removed]",
      "text/plain": [
       "<Figure size 640x480 with 1 Axes>"
      ]
     },
     "metadata": {},
     "output_type": "display_data"
    }
   ],
   "source": [
    "# Example of a picture\n",
    "import matplotlib.pyplot as plt\n",
    "index = 25\n",
    "plt.imshow(images[index])"
   ]
  },
  {
   "cell_type": "markdown",
   "metadata": {
    "id": "n4aLdMR7Ptfw"
   },
   "source": [
    "Many software bugs in machine learning come from having matrix/vector dimensions that do not fit. If you can keep your matrix/vector dimensions straight you will go a long way toward eliminating many bugs.\n",
    "\n",
    "**Exercise 1.1**: Find the values for:\n",
    "- m_images (number of images)\n",
    "- num_px (= height = width of an image).\n",
    "\n",
    "Remember that **images** is a numpy-array of shape `(m_, num_px, num_px, 3)`. For instance, you can access `m_images` by writing `images.shape[0]`."
   ]
  },
  {
   "cell_type": "code",
   "execution_count": null,
   "metadata": {
    "colab": {
     "base_uri": "https://localhost:8080/"
    },
    "executionInfo": {
     "elapsed": 545,
     "status": "ok",
     "timestamp": 1614715494658,
     "user": {
      "displayName": "Mouna Kacimi",
      "photoUrl": "",
      "userId": "13741257071130912570"
     },
     "user_tz": -60
    },
    "id": "hSZ9RC-CQked",
    "outputId": "4271f978-2ab0-42c2-8978-bb0360d3628c"
   },
   "outputs": [],
   "source": [
    "### START CODE HERE ### (≈ 2 lines of code)\n",
    "### END CODE HERE ###\n",
    "\n",
    "print (f\"Number of images: m_images = {m_images}\")\n",
    "print (f\"Height/Width of each image: num_px = {width}/{height}\")"
   ]
  },
  {
   "cell_type": "markdown",
   "metadata": {
    "id": "OYJe2JyKRRiU"
   },
   "source": [
    "*Expected Outcome* \n",
    "\n",
    "*Number of images: m_train = 209*\n",
    "\n",
    "*Height/Width of each image: num_px = 64*"
   ]
  },
  {
   "cell_type": "markdown",
   "metadata": {
    "id": "DhzV_yw5oUyA"
   },
   "source": [
    "For convenience, you should now reshape images of shape (num_px, num_px, 3) in a numpy-array of shape (num_px * num_px * 3, 1). After this, the dataset will be a numpy-array where each column represents a flattened image. There should be m_image columns.\n",
    "\n",
    "**Exercise 2.1**: Reshape the image dataset so that images of size (num_px, num_px, 3) are flattened into single vectors of shape (num_px  ∗  num_px  ∗  3, 1). A trick when you want to flatten a matrix X of shape (a,b,c,d) to a matrix X_flatten of shape (b ∗ c ∗ d, a) is to use:\n",
    "\n",
    "`X_flatten = X.reshape(X.shape[0], -1).T        # X.T is the transpose of X`"
   ]
  },
  {
   "cell_type": "code",
   "execution_count": null,
   "metadata": {
    "colab": {
     "base_uri": "https://localhost:8080/"
    },
    "executionInfo": {
     "elapsed": 578,
     "status": "ok",
     "timestamp": 1614715499692,
     "user": {
      "displayName": "Mouna Kacimi",
      "photoUrl": "",
      "userId": "13741257071130912570"
     },
     "user_tz": -60
    },
    "id": "O-AqGsUwogTl",
    "outputId": "4ba4953e-1d3e-4b56-ab31-5725bc94a272"
   },
   "outputs": [],
   "source": [
    "### START CODE HERE ### (≈ 1 lines of code)\n",
    "### END CODE HERE ###\n",
    "\n",
    "print (f\"images flatten shape: {dataset_flatten.shape}\")"
   ]
  },
  {
   "cell_type": "markdown",
   "metadata": {
    "id": "PqomDoYjS3Fd"
   },
   "source": [
    "*Expected Outcome: images flatten shape: (12288, 209)*"
   ]
  },
  {
   "cell_type": "markdown",
   "metadata": {
    "id": "g1YV8EsdVGmf"
   },
   "source": [
    "**Exercise 3.1**: Implement L1, L2, and consine similarity. If you need calculus operations, you can exploit the **numpy** tool. Once the distances are implemented, find the most similar image from to a given input image based on those measures and using `dataset_flatten`. You might find it useful displaying the input and the output images so you can visually see the difference. What do you observe?\n",
    "\n",
    "Hint: you don't need for loops into the similarity metrics, you just need loops in `top1Similarity` for iterating over all the images."
   ]
  },
  {
   "cell_type": "code",
   "execution_count": null,
   "metadata": {
    "executionInfo": {
     "elapsed": 501,
     "status": "ok",
     "timestamp": 1614724083851,
     "user": {
      "displayName": "Mouna Kacimi",
      "photoUrl": "",
      "userId": "13741257071130912570"
     },
     "user_tz": -60
    },
    "id": "Q1d0MwjbVTwe"
   },
   "outputs": [],
   "source": [
    "#L1 Metric\n",
    "\n",
    "from math import*\n",
    "\n",
    "def L1(x1, x2):\n",
    "    \"\"\"\n",
    "    Arguments:\n",
    "    x1 -- vector of size m \n",
    "    x2 -- vector of size m \n",
    "    \n",
    "    Returns:\n",
    "    distance -- the L1 distance between the two vectors\n",
    "    \"\"\"\n",
    "\n",
    "    x1 = x1.astype(np.int64)\n",
    "    x2 = x2.astype(np.int64)\n",
    "    ### START CODE HERE ### \n",
    "    ### END CODE HERE ###\n",
    "    \n",
    "    return distanceL1"
   ]
  },
  {
   "cell_type": "code",
   "execution_count": null,
   "metadata": {
    "executionInfo": {
     "elapsed": 504,
     "status": "ok",
     "timestamp": 1614724106957,
     "user": {
      "displayName": "Mouna Kacimi",
      "photoUrl": "",
      "userId": "13741257071130912570"
     },
     "user_tz": -60
    },
    "id": "uNjYOa1jUwS_"
   },
   "outputs": [],
   "source": [
    "# L2 Metric\n",
    "\n",
    "def L2(x1, x2):\n",
    "    \"\"\"\n",
    "    Arguments:\n",
    "    x1 -- vector of size m \n",
    "    x2 -- vector of size m \n",
    "    \n",
    "    Returns:\n",
    "    distance -- the L2 distance between the two vectors\n",
    "    \"\"\"\n",
    "    \n",
    "    x1 = x1.astype(np.int64)\n",
    "    x2 = x2.astype(np.int64)\n",
    "    ### START CODE HERE ###\n",
    "    ### END CODE HERE ###\n",
    "    \n",
    "    return distanceL2"
   ]
  },
  {
   "cell_type": "code",
   "execution_count": null,
   "metadata": {
    "executionInfo": {
     "elapsed": 497,
     "status": "ok",
     "timestamp": 1614724111247,
     "user": {
      "displayName": "Mouna Kacimi",
      "photoUrl": "",
      "userId": "13741257071130912570"
     },
     "user_tz": -60
    },
    "id": "M12rWox1UyIW"
   },
   "outputs": [],
   "source": [
    "# Cosine Similarity\n",
    "\n",
    "def Cosine(x1, x2):\n",
    "    \"\"\"\n",
    "    Arguments:\n",
    "    x1 -- vector of size m \n",
    "    x2 -- vector of size m \n",
    "    \n",
    "    Returns:\n",
    "    distance -- the cosine distance between the two vectors\n",
    "    \"\"\"\n",
    "    \n",
    "    x1 = x1.astype(np.int64)\n",
    "    x2 = x2.astype(np.int64)\n",
    "    ### START CODE HERE ###\n",
    "    # pay attention, you have to convert the cosine similarity saw in class in a distance\n",
    "    ### END CODE HERE ###\n",
    "    return distanceCos"
   ]
  },
  {
   "cell_type": "code",
   "execution_count": null,
   "metadata": {
    "executionInfo": {
     "elapsed": 641,
     "status": "ok",
     "timestamp": 1614724115039,
     "user": {
      "displayName": "Mouna Kacimi",
      "photoUrl": "",
      "userId": "13741257071130912570"
     },
     "user_tz": -60
    },
    "id": "_08xwavMWJ0a"
   },
   "outputs": [],
   "source": [
    "# find the most similar image to an input image\n",
    "def top1Similarity(img, dataset):\n",
    "    \"\"\"\n",
    "    Arguments:\n",
    "    img -- index of a vector of size m (represents an image)\n",
    "    dataset -- a DataFrame of images where each column represents an image (a vector of size m)\n",
    "    \n",
    "    Returns:\n",
    "    top1 -- the most similar images alogn with their scores\n",
    "    \"\"\"\n",
    "\n",
    "    ### START CODE HERE ### \n",
    "         \n",
    "    ### END CODE HERE ###\n",
    "    return topL1_Image, topL2_Image, topCos_Image, distanceL1, distanceL2, distanceCos"
   ]
  },
  {
   "cell_type": "code",
   "execution_count": null,
   "metadata": {
    "colab": {
     "base_uri": "https://localhost:8080/",
     "height": 303
    },
    "executionInfo": {
     "elapsed": 2019,
     "status": "ok",
     "timestamp": 1614724308560,
     "user": {
      "displayName": "Mouna Kacimi",
      "photoUrl": "",
      "userId": "13741257071130912570"
     },
     "user_tz": -60
    },
    "id": "2YreOzrCcOpL",
    "outputId": "68586eb0-0ab0-4b1d-90b9-7a834158426f"
   },
   "outputs": [],
   "source": [
    "############# Test the Similarity Function ##########\n",
    "QueryImage = 7\n",
    "topL1_Image, topL2_Image, topCos_Image, distanceL1, distanceL2, distanceCos = top1Similarity(QueryImage, dataset_flatten)\n",
    "print(\"The query image is:\") \n",
    "plt.imshow(images[QueryImage]) "
   ]
  },
  {
   "cell_type": "code",
   "execution_count": null,
   "metadata": {
    "colab": {
     "base_uri": "https://localhost:8080/",
     "height": 303
    },
    "executionInfo": {
     "elapsed": 595,
     "status": "ok",
     "timestamp": 1614724314803,
     "user": {
      "displayName": "Mouna Kacimi",
      "photoUrl": "",
      "userId": "13741257071130912570"
     },
     "user_tz": -60
    },
    "id": "fQ3JMkkY-4RA",
    "outputId": "f9c448d6-6dbe-4795-9f0c-ab6ec9199ae3"
   },
   "outputs": [],
   "source": [
    "print(f\"The most similar image using L1 is (score {distanceL1}):\")\n",
    "plt.imshow(images[topL1_Image])"
   ]
  },
  {
   "cell_type": "code",
   "execution_count": null,
   "metadata": {
    "colab": {
     "base_uri": "https://localhost:8080/",
     "height": 303
    },
    "executionInfo": {
     "elapsed": 590,
     "status": "ok",
     "timestamp": 1614724317756,
     "user": {
      "displayName": "Mouna Kacimi",
      "photoUrl": "",
      "userId": "13741257071130912570"
     },
     "user_tz": -60
    },
    "id": "qx1lET0_-6qM",
    "outputId": "c4b32d67-a469-42f1-8921-9e98ac2e7b98"
   },
   "outputs": [],
   "source": [
    "print(f\"The most similar image using L2 is (score {distanceL2}):\")\n",
    "plt.imshow(images[topL2_Image])"
   ]
  },
  {
   "cell_type": "code",
   "execution_count": null,
   "metadata": {
    "colab": {
     "base_uri": "https://localhost:8080/",
     "height": 303
    },
    "executionInfo": {
     "elapsed": 632,
     "status": "ok",
     "timestamp": 1614724323507,
     "user": {
      "displayName": "Mouna Kacimi",
      "photoUrl": "",
      "userId": "13741257071130912570"
     },
     "user_tz": -60
    },
    "id": "NYFU4Vk2-9pd",
    "outputId": "40028ccf-ceea-498e-b8bd-5981332ff8be"
   },
   "outputs": [],
   "source": [
    "print(f\"The most similar image using Cosine is (score {distanceCos}):\")\n",
    "plt.imshow(images[topCos_Image])"
   ]
  },
  {
   "cell_type": "markdown",
   "metadata": {},
   "source": [
    "### 2. Data Preprocessing\n",
    "\n",
    "Poor data quality can have an adverse effect on data mining. Among the common data quality issues include noise, outliers, missing values, and duplicate data. This section presents examples of Python code to alleviate some of these data quality problems. We begin with an example dataset from the UCI machine learning repository containing information about breast cancer patients. We will first download the [dataset](https://archive.ics.uci.edu/ml/datasets/breast+cancer+wisconsin+%28original%29) using Pandas read_csv() function and display its first 5 data points."
   ]
  },
  {
   "cell_type": "code",
   "execution_count": 9,
   "metadata": {},
   "outputs": [],
   "source": [
    "import pandas as pd\n",
    "data = pd.read_csv('breast-cancer-wisconsin.data', header=None)\n",
    "data.columns = ['Sample code', 'Clump Thickness', 'Uniformity of Cell Size', 'Uniformity of Cell Shape',\n",
    "                'Marginal Adhesion', 'Single Epithelial Cell Size', 'Bare Nuclei', 'Bland Chromatin',\n",
    "                'Normal Nucleoli', 'Mitoses','Class']\n",
    "data = data.drop(['Sample code'], axis=1)"
   ]
  },
  {
   "cell_type": "markdown",
   "metadata": {},
   "source": [
    "Display the number of instances, attributes, the dataset info and the first 5 rows."
   ]
  },
  {
   "cell_type": "code",
   "execution_count": null,
   "metadata": {},
   "outputs": [],
   "source": [
    "# Your code here"
   ]
  },
  {
   "cell_type": "markdown",
   "metadata": {},
   "source": [
    "### 2.1 Missing Values\n",
    "\n",
    "It is not unusual for an object to be missing one or more attribute values. In some cases, the information was not collected; while in other cases, some attributes are inapplicable to the data instances. This section presents examples on the different approaches for handling missing values. \n",
    "\n",
    "According to the description of the data (https://archive.ics.uci.edu/ml/datasets/breast+cancer+wisconsin+(original), the missing values are encoded as '?' in the original data. Our first task is to convert the missing values to NaNs. We can then count the number of missing values in each column of the data.\n",
    "\n",
    "Replace the `?` with `np.Nan`, then check the number of missing values for each column of the dataset. The combination `isna()` with `.sum()` gives you the number of missing values a dataframe."
   ]
  },
  {
   "cell_type": "code",
   "execution_count": null,
   "metadata": {},
   "outputs": [],
   "source": [
    "# Your code here"
   ]
  },
  {
   "cell_type": "markdown",
   "metadata": {},
   "source": [
    "Note that the values in all columns (except for 'Bare Nuclei') are originally stored as `int64` whereas the values in the `Bare Nuclei` column are stored as string objects (since the column initially contains strings such as `?` for representing missing values). Thus, we must convert the column into numeric values. Use the function `pd.to_numeric` to convert the `Bare Nuclei` column in a numeric format and then print the info box of the dataframe."
   ]
  },
  {
   "cell_type": "code",
   "execution_count": null,
   "metadata": {},
   "outputs": [],
   "source": [
    "# Your code here"
   ]
  },
  {
   "cell_type": "markdown",
   "metadata": {},
   "source": [
    "Observe that only the 'Bare Nuclei' column contains missing values. In the following, you will replace the missing values in the `Bare Nuclei` column with the median, mean and most frequent value of that column. This can be achieved with the `fillna` Pandas function (check online the documentation). The values for the imputation can be the mean, the mode or the median. Look up these functions on the documentation. Here a stub of the code:"
   ]
  },
  {
   "cell_type": "code",
   "execution_count": 10,
   "metadata": {},
   "outputs": [
    {
     "name": "stdout",
     "output_type": "stream",
     "text": [
      "Before replacing missing values:\n",
      "20    10\n",
      "21     7\n",
      "22     1\n",
      "23     ?\n",
      "24     1\n",
      "Name: Bare Nuclei, dtype: object\n"
     ]
    },
    {
     "ename": "NameError",
     "evalue": "name 'clean_data' is not defined",
     "output_type": "error",
     "traceback": [
      "\u001b[0;31m---------------------------------------------------------------------------\u001b[0m",
      "\u001b[0;31mNameError\u001b[0m                                 Traceback (most recent call last)",
      "Cell \u001b[0;32mIn[10], line 10\u001b[0m\n\u001b[1;32m      3\u001b[0m \u001b[38;5;28mprint\u001b[39m(data2[\u001b[38;5;241m20\u001b[39m:\u001b[38;5;241m25\u001b[39m])\n\u001b[1;32m      6\u001b[0m \u001b[38;5;66;03m### Yoour code starts here, 2 lines.\u001b[39;00m\n\u001b[1;32m      7\u001b[0m \u001b[38;5;66;03m# Use fillna() to impute the missing values using different strategies (mean, median, most_frequent).\u001b[39;00m\n\u001b[1;32m      8\u001b[0m \u001b[38;5;66;03m# Use a new dataframe called clean_data\u001b[39;00m\n\u001b[1;32m      9\u001b[0m \u001b[38;5;66;03m###\u001b[39;00m\n\u001b[0;32m---> 10\u001b[0m \u001b[38;5;28mprint\u001b[39m(\u001b[43mclean_data\u001b[49m[\u001b[38;5;124m'\u001b[39m\u001b[38;5;124mBare Nuclei\u001b[39m\u001b[38;5;124m'\u001b[39m][\u001b[38;5;241m20\u001b[39m:\u001b[38;5;241m25\u001b[39m])\n",
      "\u001b[0;31mNameError\u001b[0m: name 'clean_data' is not defined"
     ]
    }
   ],
   "source": [
    "data2 = data['Bare Nuclei']\n",
    "print('Before replacing missing values:')\n",
    "print(data2[20:25])\n",
    "\n",
    "\n",
    "### Yoour code starts here, 2 lines.\n",
    "# Use fillna() to impute the missing values using different strategies (mean, median, most_frequent).\n",
    "# Use a new dataframe called clean_data\n",
    "###\n",
    "print(clean_data['Bare Nuclei'][20:25])"
   ]
  },
  {
   "cell_type": "markdown",
   "metadata": {},
   "source": [
    "Instead of replacing the missing values, another common approach is to discard the data points that contain missing values. This can be easily accomplished by applying the `dropna()` function to the data frame."
   ]
  },
  {
   "cell_type": "code",
   "execution_count": null,
   "metadata": {},
   "outputs": [],
   "source": [
    "# Your code here"
   ]
  },
  {
   "cell_type": "markdown",
   "metadata": {},
   "source": [
    "### 2.2 Duplicate Data\n",
    "\n",
    "Some datasets, especially those obtained by merging multiple data sources, may contain duplicates or near duplicate instances. The term deduplication is often used to refer to the process of dealing with duplicate data issues. \n",
    "\n",
    "The `duplicated()` function will return a Boolean array that indicates whether each row is a duplicate of a previous row in the table. Then the `.sum()` function will return the number of duplicated rows. Use these functions to print the number of duplicated rows.\n",
    "\n",
    "Although the duplicate rows may correspond to samples for different individuals, in this hypothetical example, we assume that the duplicates are samples taken from the same individual and illustrate below how to remove the duplicated rows."
   ]
  },
  {
   "cell_type": "code",
   "execution_count": null,
   "metadata": {},
   "outputs": [],
   "source": [
    "# Your code here"
   ]
  },
  {
   "cell_type": "markdown",
   "metadata": {},
   "source": [
    "Duplicate data can be easily removed with the `drop_duplicates()` Pandas function. Print the number of rows after removal, use `drop_duplicates()` to remove duplicate data, print the number of rows after the removal."
   ]
  },
  {
   "cell_type": "code",
   "execution_count": null,
   "metadata": {},
   "outputs": [],
   "source": [
    "# Your code here"
   ]
  },
  {
   "cell_type": "markdown",
   "metadata": {},
   "source": [
    "### 2.3 Outliers\n",
    "\n",
    "\n",
    "Outliers are data instances with characteristics that are considerably different from the rest of the dataset. In the example code below, you will draw a boxplot to identify the columns in the table that contain outliers. Before remove the `Class` column."
   ]
  },
  {
   "cell_type": "code",
   "execution_count": null,
   "metadata": {},
   "outputs": [],
   "source": [
    "# Your code here"
   ]
  },
  {
   "cell_type": "markdown",
   "metadata": {},
   "source": [
    "The boxplots suggest that only 2 of the columns (Single Epithetial Cell Size and Mitoses) contain abnormally high values. To discard the outliers, we can compute the Z-score for each attribute to have all values with 0 mean and 1 standard deviation. An outlier is then defined as an element with abnormally high or low Z-scores (e.g., if Z > 3 or Z <= -3) for at least one attribute. Z can be computed as:\n",
    "\n",
    "`Z = (df - df.mean())/df.std()`\n",
    "\n",
    "and remove those instances containing attributes with abnormally high or low Z-score (e.g., if Z > 3 or Z <= -3). \n",
    "\n",
    "In the following code create a new dataframe for the Z score, remove from it the elements with a Z score > 3 or <= -3 for at least one attribute. Plot the boxplots again and look how the outliers changed. Display the number of removed outliers.\n",
    "\n",
    "Hint: the logical condition to remove outliers is to keep only the elements with -3 < Z <= 3 for all the columns, use `sum(axis=1)==NumberOfColumns`."
   ]
  },
  {
   "cell_type": "code",
   "execution_count": null,
   "metadata": {},
   "outputs": [],
   "source": [
    "# Your code here"
   ]
  },
  {
   "cell_type": "markdown",
   "metadata": {},
   "source": [
    "Another method for removing the outliers is to use the **Interquartile range**: an outlier is a sample with at least one attribute with value < Q1 - 1.5IQR or > Q3 + 1.5IQR, where IQR = Q3 - Q1, see the whiskers of the boxplot diagram.\n",
    "\n",
    "Write some code where you retain the data between Q1 - 1.5IQR and Q3 + 1.5IQR, print the number of samples before and after the removal of the outliers, print the new boxplots without the outliers.\n",
    "\n",
    "Hint: use `Q = clean_data.quantile()` to compute Q1 and Q3."
   ]
  },
  {
   "cell_type": "code",
   "execution_count": null,
   "metadata": {},
   "outputs": [],
   "source": [
    "# Your code here"
   ]
  },
  {
   "cell_type": "markdown",
   "metadata": {},
   "source": [
    "### 2.4 Discretization\n",
    "\n",
    "Discretization is a data preprocessing step that is often used to transform a continuous-valued attribute to a categorical attribute. The example below illustrates two simple but widely-used unsupervised discretization methods (equal width and equal depth) applied to the 'Clump Thickness' attribute of the breast cancer dataset.\n",
    "\n",
    "First, plot a histogram that shows the distribution of the attribute values for the `data` dataframe. The `value_counts()` function can also be applied to count the frequency of each attribute value."
   ]
  },
  {
   "cell_type": "code",
   "execution_count": null,
   "metadata": {},
   "outputs": [],
   "source": [
    "# Your code here"
   ]
  },
  {
   "cell_type": "markdown",
   "metadata": {},
   "source": [
    "For the equal width method, apply the `cut()` function to discretize the attribute into 4 bins of similar interval widths. Then use the `value_counts()` function to determine the number of instances in each bin."
   ]
  },
  {
   "cell_type": "code",
   "execution_count": null,
   "metadata": {},
   "outputs": [],
   "source": [
    "# Your code here"
   ]
  },
  {
   "cell_type": "markdown",
   "metadata": {},
   "source": [
    "For the equal frequency method, use the `qcut()` to partition the values of `data['Clump Thickness']` into 4 bins such that each bin has nearly the same number of instances."
   ]
  },
  {
   "cell_type": "code",
   "execution_count": null,
   "metadata": {},
   "outputs": [],
   "source": [
    "# Your code here"
   ]
  },
  {
   "cell_type": "markdown",
   "metadata": {},
   "source": [
    "### 2.5 Aggregation\n",
    "\n",
    "Data aggregation is a preprocessing task where the values of two or more objects are combined into a single object. The motivation for aggregation includes (1) reducing the size of data to be processed, (2) changing the granularity of analysis (from fine-scale to coarser-scale), and (3) improving the stability of the data.\n",
    "\n",
    "In the example below, you will use the daily precipitation time series data for a weather station located at Detroit Metro Airport. The raw data was obtained from the Climate Data Online website (https://www.ncdc.noaa.gov/cdo-web/). The daily precipitation time series will be compared against its monthly values.\n",
    "\n",
    "The code below will load the precipitation time series data and draw a line plot of its daily time series."
   ]
  },
  {
   "cell_type": "code",
   "execution_count": 11,
   "metadata": {},
   "outputs": [
    {
     "data": {
      "text/plain": [
       "Text(0.5, 1.0, 'Daily Precipitation (variance = 0.0530)')"
      ]
     },
     "execution_count": 11,
     "metadata": {},
     "output_type": "execute_result"
    },
    {
     "data": {
      "image/png": "[encoded data removed]",
      "text/plain": [
       "<Figure size 1500x300 with 1 Axes>"
      ]
     },
     "metadata": {},
     "output_type": "display_data"
    }
   ],
   "source": [
    "import pandas as pd\n",
    "daily = pd.read_csv('DTW_prec.csv', header='infer')\n",
    "daily.index = pd.to_datetime(daily['DATE'])\n",
    "daily = daily['PRCP']\n",
    "ax = daily.plot(kind='line',figsize=(15,3))\n",
    "ax.set_title(f'Daily Precipitation (variance = {daily.var():.4f})')"
   ]
  },
  {
   "cell_type": "markdown",
   "metadata": {},
   "source": [
    "Observe that the daily time series appear to be quite chaotic and varies significantly from one time step to another. Aggregate the time serie by month to obtain the total monthly precipitation values. The resulting time series appears to vary more smoothly compared to the daily time series.\n",
    "\n",
    "Hint: `df.groupby(pd.Grouper(freq='M'))` will group by month (`M`). Then use the right aggregator function, such as, the mean, the sum, the mode or others."
   ]
  },
  {
   "cell_type": "code",
   "execution_count": null,
   "metadata": {},
   "outputs": [],
   "source": [
    "# Your code here"
   ]
  },
  {
   "cell_type": "markdown",
   "metadata": {},
   "source": [
    "In the example below, group the daily precipitation time series by year to obtain the annual precipitation values. "
   ]
  },
  {
   "cell_type": "code",
   "execution_count": null,
   "metadata": {},
   "outputs": [],
   "source": [
    "# Your code here"
   ]
  },
  {
   "cell_type": "markdown",
   "metadata": {},
   "source": [
    "### 2.6 Taking care of Categorical Features\n",
    "\n",
    "We can take care of categorical features by converting them to integers. There are 2 common ways to do so:\n",
    "\n",
    "- **One Hot Encoding** (for nominal categories: without an order);\n",
    "- **Label Encoding** (for ordinal categories: order matters).\n",
    "\n",
    "Let's see an example with a new dataset:"
   ]
  },
  {
   "cell_type": "code",
   "execution_count": 16,
   "metadata": {},
   "outputs": [
    {
     "data": {
      "text/html": [
       "<div>\n",
       "<style scoped>\n",
       "    .dataframe tbody tr th:only-of-type {\n",
       "        vertical-align: middle;\n",
       "    }\n",
       "\n",
       "    .dataframe tbody tr th {\n",
       "        vertical-align: top;\n",
       "    }\n",
       "\n",
       "    .dataframe thead th {\n",
       "        text-align: right;\n",
       "    }\n",
       "</style>\n",
       "<table border=\"1\" class=\"dataframe\">\n",
       "  <thead>\n",
       "    <tr style=\"text-align: right;\">\n",
       "      <th></th>\n",
       "      <th>Manufacturer</th>\n",
       "      <th>Model</th>\n",
       "      <th>Price</th>\n",
       "      <th>Transmission</th>\n",
       "      <th>Power</th>\n",
       "      <th>Engine CC</th>\n",
       "      <th>Fuel</th>\n",
       "      <th>Male</th>\n",
       "      <th>Female</th>\n",
       "      <th>Unknown</th>\n",
       "      <th>Total</th>\n",
       "    </tr>\n",
       "  </thead>\n",
       "  <tbody>\n",
       "    <tr>\n",
       "      <th>0</th>\n",
       "      <td>Ford</td>\n",
       "      <td>Focus</td>\n",
       "      <td>30.619322</td>\n",
       "      <td>5.966102</td>\n",
       "      <td>94.033898</td>\n",
       "      <td>1497.169492</td>\n",
       "      <td>petrol</td>\n",
       "      <td>814172</td>\n",
       "      <td>422731</td>\n",
       "      <td>56,487</td>\n",
       "      <td>1293390</td>\n",
       "    </tr>\n",
       "    <tr>\n",
       "      <th>1</th>\n",
       "      <td>Ford</td>\n",
       "      <td>Fiesta</td>\n",
       "      <td>18.532143</td>\n",
       "      <td>5.714286</td>\n",
       "      <td>68.571429</td>\n",
       "      <td>1166.142857</td>\n",
       "      <td>petrol</td>\n",
       "      <td>554879</td>\n",
       "      <td>631666</td>\n",
       "      <td>54,057</td>\n",
       "      <td>1240602</td>\n",
       "    </tr>\n",
       "    <tr>\n",
       "      <th>2</th>\n",
       "      <td>Volkswagen</td>\n",
       "      <td>Golf</td>\n",
       "      <td>31.242154</td>\n",
       "      <td>6.164835</td>\n",
       "      <td>89.461538</td>\n",
       "      <td>1537.406593</td>\n",
       "      <td>petrol</td>\n",
       "      <td>483216</td>\n",
       "      <td>310604</td>\n",
       "      <td>47,563</td>\n",
       "      <td>841383</td>\n",
       "    </tr>\n",
       "    <tr>\n",
       "      <th>3</th>\n",
       "      <td>Renault</td>\n",
       "      <td>Clio</td>\n",
       "      <td>22.100000</td>\n",
       "      <td>5.615385</td>\n",
       "      <td>75.576923</td>\n",
       "      <td>1219.653846</td>\n",
       "      <td>petrol</td>\n",
       "      <td>241287</td>\n",
       "      <td>312556</td>\n",
       "      <td>28,004</td>\n",
       "      <td>581847</td>\n",
       "    </tr>\n",
       "    <tr>\n",
       "      <th>4</th>\n",
       "      <td>BMW</td>\n",
       "      <td>320i</td>\n",
       "      <td>47.848370</td>\n",
       "      <td>6.444444</td>\n",
       "      <td>126.111111</td>\n",
       "      <td>1995.777778</td>\n",
       "      <td>petrol</td>\n",
       "      <td>408016</td>\n",
       "      <td>115843</td>\n",
       "      <td>29,125</td>\n",
       "      <td>552984</td>\n",
       "    </tr>\n",
       "    <tr>\n",
       "      <th>...</th>\n",
       "      <td>...</td>\n",
       "      <td>...</td>\n",
       "      <td>...</td>\n",
       "      <td>...</td>\n",
       "      <td>...</td>\n",
       "      <td>...</td>\n",
       "      <td>...</td>\n",
       "      <td>...</td>\n",
       "      <td>...</td>\n",
       "      <td>...</td>\n",
       "      <td>...</td>\n",
       "    </tr>\n",
       "    <tr>\n",
       "      <th>6087</th>\n",
       "      <td>Land-Rover</td>\n",
       "      <td>Defender</td>\n",
       "      <td>108.747195</td>\n",
       "      <td>7.853659</td>\n",
       "      <td>207.609756</td>\n",
       "      <td>2304.975610</td>\n",
       "      <td>diesel</td>\n",
       "      <td>1,012</td>\n",
       "      <td>150</td>\n",
       "      <td>80</td>\n",
       "      <td>1,242</td>\n",
       "    </tr>\n",
       "    <tr>\n",
       "      <th>6088</th>\n",
       "      <td>Toyota</td>\n",
       "      <td>RAV4</td>\n",
       "      <td>43.548516</td>\n",
       "      <td>1.354839</td>\n",
       "      <td>137.774193</td>\n",
       "      <td>2261.193548</td>\n",
       "      <td>petrol</td>\n",
       "      <td>670</td>\n",
       "      <td>482</td>\n",
       "      <td>66</td>\n",
       "      <td>1,218</td>\n",
       "    </tr>\n",
       "    <tr>\n",
       "      <th>6089</th>\n",
       "      <td>Alfa-Romeo</td>\n",
       "      <td>Spider</td>\n",
       "      <td>55.200000</td>\n",
       "      <td>6.000000</td>\n",
       "      <td>163.500000</td>\n",
       "      <td>2696.500000</td>\n",
       "      <td>petrol</td>\n",
       "      <td>790</td>\n",
       "      <td>247</td>\n",
       "      <td>81</td>\n",
       "      <td>1,118</td>\n",
       "    </tr>\n",
       "    <tr>\n",
       "      <th>6090</th>\n",
       "      <td>Honda</td>\n",
       "      <td>Shuttle</td>\n",
       "      <td>30.081000</td>\n",
       "      <td>4.000000</td>\n",
       "      <td>110.000000</td>\n",
       "      <td>2254.000000</td>\n",
       "      <td>petrol</td>\n",
       "      <td>639</td>\n",
       "      <td>416</td>\n",
       "      <td>49</td>\n",
       "      <td>1,104</td>\n",
       "    </tr>\n",
       "    <tr>\n",
       "      <th>6091</th>\n",
       "      <td>Mitsubishi</td>\n",
       "      <td>Space</td>\n",
       "      <td>23.165158</td>\n",
       "      <td>3.947368</td>\n",
       "      <td>82.157895</td>\n",
       "      <td>1817.315789</td>\n",
       "      <td>petrol</td>\n",
       "      <td>721</td>\n",
       "      <td>251</td>\n",
       "      <td>40</td>\n",
       "      <td>1,012</td>\n",
       "    </tr>\n",
       "  </tbody>\n",
       "</table>\n",
       "<p>6092 rows × 11 columns</p>\n",
       "</div>"
      ],
      "text/plain": [
       "     Manufacturer     Model       Price  Transmission       Power  \\\n",
       "0            Ford     Focus   30.619322      5.966102   94.033898   \n",
       "1            Ford    Fiesta   18.532143      5.714286   68.571429   \n",
       "2      Volkswagen      Golf   31.242154      6.164835   89.461538   \n",
       "3         Renault      Clio   22.100000      5.615385   75.576923   \n",
       "4             BMW      320i   47.848370      6.444444  126.111111   \n",
       "...           ...       ...         ...           ...         ...   \n",
       "6087   Land-Rover  Defender  108.747195      7.853659  207.609756   \n",
       "6088       Toyota      RAV4   43.548516      1.354839  137.774193   \n",
       "6089   Alfa-Romeo    Spider   55.200000      6.000000  163.500000   \n",
       "6090        Honda   Shuttle   30.081000      4.000000  110.000000   \n",
       "6091   Mitsubishi     Space   23.165158      3.947368   82.157895   \n",
       "\n",
       "        Engine CC    Fuel    Male  Female Unknown    Total  \n",
       "0     1497.169492  petrol  814172  422731  56,487  1293390  \n",
       "1     1166.142857  petrol  554879  631666  54,057  1240602  \n",
       "2     1537.406593  petrol  483216  310604  47,563   841383  \n",
       "3     1219.653846  petrol  241287  312556  28,004   581847  \n",
       "4     1995.777778  petrol  408016  115843  29,125   552984  \n",
       "...           ...     ...     ...     ...     ...      ...  \n",
       "6087  2304.975610  diesel   1,012     150      80    1,242  \n",
       "6088  2261.193548  petrol     670     482      66    1,218  \n",
       "6089  2696.500000  petrol     790     247      81    1,118  \n",
       "6090  2254.000000  petrol     639     416      49    1,104  \n",
       "6091  1817.315789  petrol     721     251      40    1,012  \n",
       "\n",
       "[6092 rows x 11 columns]"
      ]
     },
     "execution_count": 16,
     "metadata": {},
     "output_type": "execute_result"
    }
   ],
   "source": [
    "car_data = pd.read_csv('CarBuyers.csv')\n",
    "car_data"
   ]
  },
  {
   "cell_type": "markdown",
   "metadata": {},
   "source": [
    "Let's concentrate on the Fuel column, we want to transform it into some asymmetric attributes using the **One Hot encoding**. The Pandas function `get_dummies` will do the job. As it is not an in-place function you have to save the dataframe in a new variable, concatenate the result to the original dataframe (see the `concat` function) and remove the old column:"
   ]
  },
  {
   "cell_type": "code",
   "execution_count": 17,
   "metadata": {},
   "outputs": [
    {
     "data": {
      "text/html": [
       "<div>\n",
       "<style scoped>\n",
       "    .dataframe tbody tr th:only-of-type {\n",
       "        vertical-align: middle;\n",
       "    }\n",
       "\n",
       "    .dataframe tbody tr th {\n",
       "        vertical-align: top;\n",
       "    }\n",
       "\n",
       "    .dataframe thead th {\n",
       "        text-align: right;\n",
       "    }\n",
       "</style>\n",
       "<table border=\"1\" class=\"dataframe\">\n",
       "  <thead>\n",
       "    <tr style=\"text-align: right;\">\n",
       "      <th></th>\n",
       "      <th>automatic</th>\n",
       "      <th>diesel</th>\n",
       "      <th>petrol</th>\n",
       "      <th>Manufacturer</th>\n",
       "      <th>Model</th>\n",
       "      <th>Price</th>\n",
       "      <th>Transmission</th>\n",
       "      <th>Power</th>\n",
       "      <th>Engine CC</th>\n",
       "      <th>Male</th>\n",
       "      <th>Female</th>\n",
       "      <th>Unknown</th>\n",
       "      <th>Total</th>\n",
       "    </tr>\n",
       "  </thead>\n",
       "  <tbody>\n",
       "    <tr>\n",
       "      <th>0</th>\n",
       "      <td>False</td>\n",
       "      <td>False</td>\n",
       "      <td>True</td>\n",
       "      <td>Ford</td>\n",
       "      <td>Focus</td>\n",
       "      <td>30.619322</td>\n",
       "      <td>5.966102</td>\n",
       "      <td>94.033898</td>\n",
       "      <td>1497.169492</td>\n",
       "      <td>814172</td>\n",
       "      <td>422731</td>\n",
       "      <td>56,487</td>\n",
       "      <td>1293390</td>\n",
       "    </tr>\n",
       "    <tr>\n",
       "      <th>1</th>\n",
       "      <td>False</td>\n",
       "      <td>False</td>\n",
       "      <td>True</td>\n",
       "      <td>Ford</td>\n",
       "      <td>Fiesta</td>\n",
       "      <td>18.532143</td>\n",
       "      <td>5.714286</td>\n",
       "      <td>68.571429</td>\n",
       "      <td>1166.142857</td>\n",
       "      <td>554879</td>\n",
       "      <td>631666</td>\n",
       "      <td>54,057</td>\n",
       "      <td>1240602</td>\n",
       "    </tr>\n",
       "    <tr>\n",
       "      <th>2</th>\n",
       "      <td>False</td>\n",
       "      <td>False</td>\n",
       "      <td>True</td>\n",
       "      <td>Volkswagen</td>\n",
       "      <td>Golf</td>\n",
       "      <td>31.242154</td>\n",
       "      <td>6.164835</td>\n",
       "      <td>89.461538</td>\n",
       "      <td>1537.406593</td>\n",
       "      <td>483216</td>\n",
       "      <td>310604</td>\n",
       "      <td>47,563</td>\n",
       "      <td>841383</td>\n",
       "    </tr>\n",
       "    <tr>\n",
       "      <th>3</th>\n",
       "      <td>False</td>\n",
       "      <td>False</td>\n",
       "      <td>True</td>\n",
       "      <td>Renault</td>\n",
       "      <td>Clio</td>\n",
       "      <td>22.100000</td>\n",
       "      <td>5.615385</td>\n",
       "      <td>75.576923</td>\n",
       "      <td>1219.653846</td>\n",
       "      <td>241287</td>\n",
       "      <td>312556</td>\n",
       "      <td>28,004</td>\n",
       "      <td>581847</td>\n",
       "    </tr>\n",
       "    <tr>\n",
       "      <th>4</th>\n",
       "      <td>False</td>\n",
       "      <td>False</td>\n",
       "      <td>True</td>\n",
       "      <td>BMW</td>\n",
       "      <td>320i</td>\n",
       "      <td>47.848370</td>\n",
       "      <td>6.444444</td>\n",
       "      <td>126.111111</td>\n",
       "      <td>1995.777778</td>\n",
       "      <td>408016</td>\n",
       "      <td>115843</td>\n",
       "      <td>29,125</td>\n",
       "      <td>552984</td>\n",
       "    </tr>\n",
       "    <tr>\n",
       "      <th>...</th>\n",
       "      <td>...</td>\n",
       "      <td>...</td>\n",
       "      <td>...</td>\n",
       "      <td>...</td>\n",
       "      <td>...</td>\n",
       "      <td>...</td>\n",
       "      <td>...</td>\n",
       "      <td>...</td>\n",
       "      <td>...</td>\n",
       "      <td>...</td>\n",
       "      <td>...</td>\n",
       "      <td>...</td>\n",
       "      <td>...</td>\n",
       "    </tr>\n",
       "    <tr>\n",
       "      <th>6087</th>\n",
       "      <td>False</td>\n",
       "      <td>True</td>\n",
       "      <td>False</td>\n",
       "      <td>Land-Rover</td>\n",
       "      <td>Defender</td>\n",
       "      <td>108.747195</td>\n",
       "      <td>7.853659</td>\n",
       "      <td>207.609756</td>\n",
       "      <td>2304.975610</td>\n",
       "      <td>1,012</td>\n",
       "      <td>150</td>\n",
       "      <td>80</td>\n",
       "      <td>1,242</td>\n",
       "    </tr>\n",
       "    <tr>\n",
       "      <th>6088</th>\n",
       "      <td>False</td>\n",
       "      <td>False</td>\n",
       "      <td>True</td>\n",
       "      <td>Toyota</td>\n",
       "      <td>RAV4</td>\n",
       "      <td>43.548516</td>\n",
       "      <td>1.354839</td>\n",
       "      <td>137.774193</td>\n",
       "      <td>2261.193548</td>\n",
       "      <td>670</td>\n",
       "      <td>482</td>\n",
       "      <td>66</td>\n",
       "      <td>1,218</td>\n",
       "    </tr>\n",
       "    <tr>\n",
       "      <th>6089</th>\n",
       "      <td>False</td>\n",
       "      <td>False</td>\n",
       "      <td>True</td>\n",
       "      <td>Alfa-Romeo</td>\n",
       "      <td>Spider</td>\n",
       "      <td>55.200000</td>\n",
       "      <td>6.000000</td>\n",
       "      <td>163.500000</td>\n",
       "      <td>2696.500000</td>\n",
       "      <td>790</td>\n",
       "      <td>247</td>\n",
       "      <td>81</td>\n",
       "      <td>1,118</td>\n",
       "    </tr>\n",
       "    <tr>\n",
       "      <th>6090</th>\n",
       "      <td>False</td>\n",
       "      <td>False</td>\n",
       "      <td>True</td>\n",
       "      <td>Honda</td>\n",
       "      <td>Shuttle</td>\n",
       "      <td>30.081000</td>\n",
       "      <td>4.000000</td>\n",
       "      <td>110.000000</td>\n",
       "      <td>2254.000000</td>\n",
       "      <td>639</td>\n",
       "      <td>416</td>\n",
       "      <td>49</td>\n",
       "      <td>1,104</td>\n",
       "    </tr>\n",
       "    <tr>\n",
       "      <th>6091</th>\n",
       "      <td>False</td>\n",
       "      <td>False</td>\n",
       "      <td>True</td>\n",
       "      <td>Mitsubishi</td>\n",
       "      <td>Space</td>\n",
       "      <td>23.165158</td>\n",
       "      <td>3.947368</td>\n",
       "      <td>82.157895</td>\n",
       "      <td>1817.315789</td>\n",
       "      <td>721</td>\n",
       "      <td>251</td>\n",
       "      <td>40</td>\n",
       "      <td>1,012</td>\n",
       "    </tr>\n",
       "  </tbody>\n",
       "</table>\n",
       "<p>6092 rows × 13 columns</p>\n",
       "</div>"
      ],
      "text/plain": [
       "      automatic  diesel  petrol Manufacturer     Model       Price  \\\n",
       "0         False   False    True         Ford     Focus   30.619322   \n",
       "1         False   False    True         Ford    Fiesta   18.532143   \n",
       "2         False   False    True   Volkswagen      Golf   31.242154   \n",
       "3         False   False    True      Renault      Clio   22.100000   \n",
       "4         False   False    True          BMW      320i   47.848370   \n",
       "...         ...     ...     ...          ...       ...         ...   \n",
       "6087      False    True   False   Land-Rover  Defender  108.747195   \n",
       "6088      False   False    True       Toyota      RAV4   43.548516   \n",
       "6089      False   False    True   Alfa-Romeo    Spider   55.200000   \n",
       "6090      False   False    True        Honda   Shuttle   30.081000   \n",
       "6091      False   False    True   Mitsubishi     Space   23.165158   \n",
       "\n",
       "      Transmission       Power    Engine CC    Male  Female Unknown    Total  \n",
       "0         5.966102   94.033898  1497.169492  814172  422731  56,487  1293390  \n",
       "1         5.714286   68.571429  1166.142857  554879  631666  54,057  1240602  \n",
       "2         6.164835   89.461538  1537.406593  483216  310604  47,563   841383  \n",
       "3         5.615385   75.576923  1219.653846  241287  312556  28,004   581847  \n",
       "4         6.444444  126.111111  1995.777778  408016  115843  29,125   552984  \n",
       "...            ...         ...          ...     ...     ...     ...      ...  \n",
       "6087      7.853659  207.609756  2304.975610   1,012     150      80    1,242  \n",
       "6088      1.354839  137.774193  2261.193548     670     482      66    1,218  \n",
       "6089      6.000000  163.500000  2696.500000     790     247      81    1,118  \n",
       "6090      4.000000  110.000000  2254.000000     639     416      49    1,104  \n",
       "6091      3.947368   82.157895  1817.315789     721     251      40    1,012  \n",
       "\n",
       "[6092 rows x 13 columns]"
      ]
     },
     "execution_count": 17,
     "metadata": {},
     "output_type": "execute_result"
    }
   ],
   "source": [
    "catDf = pd.get_dummies(data=car_data['Fuel'])\n",
    "catDf = pd.concat([catDf, car_data], axis=1)\n",
    "del catDf['Fuel']\n",
    "catDf"
   ]
  },
  {
   "cell_type": "markdown",
   "metadata": {},
   "source": [
    "Now let's suppose we want to assign an order to the values in the Fuel column. We want to transform these values into numeric ordered values usign a **label encoding**. As first, we need to pass a mapping of (label value: numeric value) and then performing a replace (in-place):"
   ]
  },
  {
   "cell_type": "code",
   "execution_count": 18,
   "metadata": {},
   "outputs": [
    {
     "data": {
      "text/html": [
       "<div>\n",
       "<style scoped>\n",
       "    .dataframe tbody tr th:only-of-type {\n",
       "        vertical-align: middle;\n",
       "    }\n",
       "\n",
       "    .dataframe tbody tr th {\n",
       "        vertical-align: top;\n",
       "    }\n",
       "\n",
       "    .dataframe thead th {\n",
       "        text-align: right;\n",
       "    }\n",
       "</style>\n",
       "<table border=\"1\" class=\"dataframe\">\n",
       "  <thead>\n",
       "    <tr style=\"text-align: right;\">\n",
       "      <th></th>\n",
       "      <th>Manufacturer</th>\n",
       "      <th>Model</th>\n",
       "      <th>Price</th>\n",
       "      <th>Transmission</th>\n",
       "      <th>Power</th>\n",
       "      <th>Engine CC</th>\n",
       "      <th>Fuel</th>\n",
       "      <th>Male</th>\n",
       "      <th>Female</th>\n",
       "      <th>Unknown</th>\n",
       "      <th>Total</th>\n",
       "    </tr>\n",
       "  </thead>\n",
       "  <tbody>\n",
       "    <tr>\n",
       "      <th>0</th>\n",
       "      <td>Ford</td>\n",
       "      <td>Focus</td>\n",
       "      <td>30.619322</td>\n",
       "      <td>5.966102</td>\n",
       "      <td>94.033898</td>\n",
       "      <td>1497.169492</td>\n",
       "      <td>1</td>\n",
       "      <td>814172</td>\n",
       "      <td>422731</td>\n",
       "      <td>56,487</td>\n",
       "      <td>1293390</td>\n",
       "    </tr>\n",
       "    <tr>\n",
       "      <th>1</th>\n",
       "      <td>Ford</td>\n",
       "      <td>Fiesta</td>\n",
       "      <td>18.532143</td>\n",
       "      <td>5.714286</td>\n",
       "      <td>68.571429</td>\n",
       "      <td>1166.142857</td>\n",
       "      <td>1</td>\n",
       "      <td>554879</td>\n",
       "      <td>631666</td>\n",
       "      <td>54,057</td>\n",
       "      <td>1240602</td>\n",
       "    </tr>\n",
       "    <tr>\n",
       "      <th>2</th>\n",
       "      <td>Volkswagen</td>\n",
       "      <td>Golf</td>\n",
       "      <td>31.242154</td>\n",
       "      <td>6.164835</td>\n",
       "      <td>89.461538</td>\n",
       "      <td>1537.406593</td>\n",
       "      <td>1</td>\n",
       "      <td>483216</td>\n",
       "      <td>310604</td>\n",
       "      <td>47,563</td>\n",
       "      <td>841383</td>\n",
       "    </tr>\n",
       "    <tr>\n",
       "      <th>3</th>\n",
       "      <td>Renault</td>\n",
       "      <td>Clio</td>\n",
       "      <td>22.100000</td>\n",
       "      <td>5.615385</td>\n",
       "      <td>75.576923</td>\n",
       "      <td>1219.653846</td>\n",
       "      <td>1</td>\n",
       "      <td>241287</td>\n",
       "      <td>312556</td>\n",
       "      <td>28,004</td>\n",
       "      <td>581847</td>\n",
       "    </tr>\n",
       "    <tr>\n",
       "      <th>4</th>\n",
       "      <td>BMW</td>\n",
       "      <td>320i</td>\n",
       "      <td>47.848370</td>\n",
       "      <td>6.444444</td>\n",
       "      <td>126.111111</td>\n",
       "      <td>1995.777778</td>\n",
       "      <td>1</td>\n",
       "      <td>408016</td>\n",
       "      <td>115843</td>\n",
       "      <td>29,125</td>\n",
       "      <td>552984</td>\n",
       "    </tr>\n",
       "    <tr>\n",
       "      <th>...</th>\n",
       "      <td>...</td>\n",
       "      <td>...</td>\n",
       "      <td>...</td>\n",
       "      <td>...</td>\n",
       "      <td>...</td>\n",
       "      <td>...</td>\n",
       "      <td>...</td>\n",
       "      <td>...</td>\n",
       "      <td>...</td>\n",
       "      <td>...</td>\n",
       "      <td>...</td>\n",
       "    </tr>\n",
       "    <tr>\n",
       "      <th>6087</th>\n",
       "      <td>Land-Rover</td>\n",
       "      <td>Defender</td>\n",
       "      <td>108.747195</td>\n",
       "      <td>7.853659</td>\n",
       "      <td>207.609756</td>\n",
       "      <td>2304.975610</td>\n",
       "      <td>2</td>\n",
       "      <td>1,012</td>\n",
       "      <td>150</td>\n",
       "      <td>80</td>\n",
       "      <td>1,242</td>\n",
       "    </tr>\n",
       "    <tr>\n",
       "      <th>6088</th>\n",
       "      <td>Toyota</td>\n",
       "      <td>RAV4</td>\n",
       "      <td>43.548516</td>\n",
       "      <td>1.354839</td>\n",
       "      <td>137.774193</td>\n",
       "      <td>2261.193548</td>\n",
       "      <td>1</td>\n",
       "      <td>670</td>\n",
       "      <td>482</td>\n",
       "      <td>66</td>\n",
       "      <td>1,218</td>\n",
       "    </tr>\n",
       "    <tr>\n",
       "      <th>6089</th>\n",
       "      <td>Alfa-Romeo</td>\n",
       "      <td>Spider</td>\n",
       "      <td>55.200000</td>\n",
       "      <td>6.000000</td>\n",
       "      <td>163.500000</td>\n",
       "      <td>2696.500000</td>\n",
       "      <td>1</td>\n",
       "      <td>790</td>\n",
       "      <td>247</td>\n",
       "      <td>81</td>\n",
       "      <td>1,118</td>\n",
       "    </tr>\n",
       "    <tr>\n",
       "      <th>6090</th>\n",
       "      <td>Honda</td>\n",
       "      <td>Shuttle</td>\n",
       "      <td>30.081000</td>\n",
       "      <td>4.000000</td>\n",
       "      <td>110.000000</td>\n",
       "      <td>2254.000000</td>\n",
       "      <td>1</td>\n",
       "      <td>639</td>\n",
       "      <td>416</td>\n",
       "      <td>49</td>\n",
       "      <td>1,104</td>\n",
       "    </tr>\n",
       "    <tr>\n",
       "      <th>6091</th>\n",
       "      <td>Mitsubishi</td>\n",
       "      <td>Space</td>\n",
       "      <td>23.165158</td>\n",
       "      <td>3.947368</td>\n",
       "      <td>82.157895</td>\n",
       "      <td>1817.315789</td>\n",
       "      <td>1</td>\n",
       "      <td>721</td>\n",
       "      <td>251</td>\n",
       "      <td>40</td>\n",
       "      <td>1,012</td>\n",
       "    </tr>\n",
       "  </tbody>\n",
       "</table>\n",
       "<p>6092 rows × 11 columns</p>\n",
       "</div>"
      ],
      "text/plain": [
       "     Manufacturer     Model       Price  Transmission       Power  \\\n",
       "0            Ford     Focus   30.619322      5.966102   94.033898   \n",
       "1            Ford    Fiesta   18.532143      5.714286   68.571429   \n",
       "2      Volkswagen      Golf   31.242154      6.164835   89.461538   \n",
       "3         Renault      Clio   22.100000      5.615385   75.576923   \n",
       "4             BMW      320i   47.848370      6.444444  126.111111   \n",
       "...           ...       ...         ...           ...         ...   \n",
       "6087   Land-Rover  Defender  108.747195      7.853659  207.609756   \n",
       "6088       Toyota      RAV4   43.548516      1.354839  137.774193   \n",
       "6089   Alfa-Romeo    Spider   55.200000      6.000000  163.500000   \n",
       "6090        Honda   Shuttle   30.081000      4.000000  110.000000   \n",
       "6091   Mitsubishi     Space   23.165158      3.947368   82.157895   \n",
       "\n",
       "        Engine CC  Fuel    Male  Female Unknown    Total  \n",
       "0     1497.169492     1  814172  422731  56,487  1293390  \n",
       "1     1166.142857     1  554879  631666  54,057  1240602  \n",
       "2     1537.406593     1  483216  310604  47,563   841383  \n",
       "3     1219.653846     1  241287  312556  28,004   581847  \n",
       "4     1995.777778     1  408016  115843  29,125   552984  \n",
       "...           ...   ...     ...     ...     ...      ...  \n",
       "6087  2304.975610     2   1,012     150      80    1,242  \n",
       "6088  2261.193548     1     670     482      66    1,218  \n",
       "6089  2696.500000     1     790     247      81    1,118  \n",
       "6090  2254.000000     1     639     416      49    1,104  \n",
       "6091  1817.315789     1     721     251      40    1,012  \n",
       "\n",
       "[6092 rows x 11 columns]"
      ]
     },
     "execution_count": 18,
     "metadata": {},
     "output_type": "execute_result"
    }
   ],
   "source": [
    "scale_mapper = {\"petrol\": 1, \"diesel\": 2, \"automatic\": 3}\n",
    "car_data[\"Fuel\"] = car_data[\"Fuel\"].replace(scale_mapper)\n",
    "car_data"
   ]
  },
  {
   "cell_type": "markdown",
   "metadata": {},
   "source": [
    "### 2.7 Feature Scaling: Normalization vs Standardization\n",
    "\n",
    "Normalization vs. standardization is an eternal question among machine learning newcomers:\n",
    "\n",
    "- Standardization can be helpful in cases where the data follows a Gaussian distribution. However, this does not have to be necessarily true. Also, unlike normalization, standardization does not have a bounding range.\n",
    "- Normalization is good to use when you know that the distribution of your data does not follow a Gaussian distribution. This can be useful in algorithms that do not assume any distribution of the data like K-Nearest Neighbors and Neural Networks.\n",
    "\n",
    "Feature scaling often leads to a better performance because gradient descent converges faster after normalization or the distances in clustering or k-means can be meaningless without normalization.\n",
    "\n",
    "**The choice of using normalization or standardization will depend on your problem and the machine learning algorithm you are using. There is no hard and fast rule to tell you when to normalize or standardize your data. You can always start by fitting your model to raw, normalized and standardized data and compare the performance for best results.**"
   ]
  },
  {
   "cell_type": "markdown",
   "metadata": {},
   "source": [
    "#### Standardization\n",
    "\n",
    "Is the transformation of the numeric attributes in their Z-score: subtracting the mean of the data to each value and dividing by the standard deviation of the data in that column:\n",
    "\n",
    "$$\n",
    "Z = \\frac{X - \\mu}{\\sigma}\n",
    "$$\n",
    "\n",
    "**Exercise**:\n",
    "- Compute mean and stdev of the Price, Transmission, Power, and Engine CC columns;\n",
    "- apply standardization on these columns;\n",
    "- compute mean and stdev and check the differences."
   ]
  },
  {
   "cell_type": "code",
   "execution_count": null,
   "metadata": {},
   "outputs": [],
   "source": [
    "# Your code here"
   ]
  },
  {
   "cell_type": "markdown",
   "metadata": {},
   "source": [
    "This can be achieved by using the `StandardScaler` of the `Scikit-Learn` Python library:"
   ]
  },
  {
   "cell_type": "code",
   "execution_count": 19,
   "metadata": {},
   "outputs": [
    {
     "ename": "NameError",
     "evalue": "name 'numeric_attr' is not defined",
     "output_type": "error",
     "traceback": [
      "\u001b[0;31m---------------------------------------------------------------------------\u001b[0m",
      "\u001b[0;31mNameError\u001b[0m                                 Traceback (most recent call last)",
      "Cell \u001b[0;32mIn[19], line 3\u001b[0m\n\u001b[1;32m      1\u001b[0m \u001b[38;5;28;01mfrom\u001b[39;00m \u001b[38;5;21;01msklearn\u001b[39;00m\u001b[38;5;21;01m.\u001b[39;00m\u001b[38;5;21;01mpreprocessing\u001b[39;00m \u001b[38;5;28;01mimport\u001b[39;00m StandardScaler\n\u001b[1;32m      2\u001b[0m ss \u001b[38;5;241m=\u001b[39m StandardScaler()\n\u001b[0;32m----> 3\u001b[0m z \u001b[38;5;241m=\u001b[39m ss\u001b[38;5;241m.\u001b[39mfit_transform(car_data[\u001b[43mnumeric_attr\u001b[49m])\n\u001b[1;32m      4\u001b[0m \u001b[38;5;28mprint\u001b[39m(z)\n",
      "\u001b[0;31mNameError\u001b[0m: name 'numeric_attr' is not defined"
     ]
    }
   ],
   "source": [
    "from sklearn.preprocessing import StandardScaler\n",
    "ss = StandardScaler()\n",
    "z = ss.fit_transform(car_data[numeric_attr])\n",
    "print(z)"
   ]
  },
  {
   "cell_type": "markdown",
   "metadata": {},
   "source": [
    "#### Normalization\n",
    "\n",
    "It does not have a standard definition, it general it scales the values in a range: [-1, 1] or [0,1].\n",
    "\n",
    "A definition of normalization is changing x to $ \\frac{x}{\\| x\\|} $ (dividing each row vector of x by its norm).\n",
    "\n",
    "For example, if $$x = \n",
    "\\begin{bmatrix}\n",
    "    0 & 3 & 4 \\\\\n",
    "    2 & 6 & 4 \\\\\n",
    "\\end{bmatrix}\\tag{3}$$ then $$\\| x\\| = \\begin{bmatrix}\n",
    "    5 \\\\\n",
    "    \\sqrt{56} \\\\\n",
    "\\end{bmatrix}\\tag{4} $$and        $$ x\\_normalized = \\frac{x}{\\| x\\|} = \\begin{bmatrix}\n",
    "    0 & \\frac{3}{5} & \\frac{4}{5} \\\\\n",
    "    \\frac{2}{\\sqrt{56}} & \\frac{6}{\\sqrt{56}} & \\frac{4}{\\sqrt{56}} \\\\\n",
    "\\end{bmatrix}\\tag{5}$$\n",
    "\n",
    "**Exercise**:\n",
    "Implement normalizeRows() to normalize the rows of a matrix. After applying this function to an input matrix x, each row of x should be a vector of unit length (meaning length 1)."
   ]
  },
  {
   "cell_type": "code",
   "execution_count": null,
   "metadata": {},
   "outputs": [],
   "source": [
    "import numpy as np\n",
    "\n",
    "def normalizeRows(x):\n",
    "    \"\"\"\n",
    "    Implement a function that normalizes each row of the matrix x (to have unit length).\n",
    "    \n",
    "    Argument:\n",
    "    x -- A numpy matrix of shape (n, m)\n",
    "    \n",
    "    Returns:\n",
    "    x -- The normalized (by row) numpy matrix. You are allowed to modify x.\n",
    "    \"\"\"\n",
    "    \n",
    "    # Your code here\n",
    "\n",
    "    return x"
   ]
  },
  {
   "cell_type": "code",
   "execution_count": null,
   "metadata": {},
   "outputs": [],
   "source": [
    "x = car_data[numeric_attr]\n",
    "print(f\"normalizeRows(x) = \\n{normalizeRows(x)}\")"
   ]
  },
  {
   "cell_type": "markdown",
   "metadata": {},
   "source": [
    "This kind of normalization scales an input vector $x$ in the [0, 1] interval such that its Euclidean norm $||x||$ is 1. "
   ]
  },
  {
   "cell_type": "markdown",
   "metadata": {},
   "source": [
    "This can also be achieved by the `Normalizer` function of Sklearn. Have a look at the documentation and use it in the example used above:"
   ]
  },
  {
   "cell_type": "code",
   "execution_count": null,
   "metadata": {},
   "outputs": [],
   "source": [
    "# Your code here"
   ]
  },
  {
   "cell_type": "markdown",
   "metadata": {},
   "source": [
    "Another definition of normalization is a scaling technique in which values are shifted and rescaled so that they end up ranging between 0 and 1. It is also known as **Min-Max scaling**.\n",
    "\n",
    "Here’s the formula for normalization:\n",
    "\n",
    "$$X_{new} = \\frac{X - X_{min}}{X_{max} - X_{min}}$$\n",
    "\n",
    "Here, Xmax and Xmin are the maximum and the minimum values of the feature respectively.\n",
    "\n",
    "- When the value of $X$ is the minimum value in the column, the numerator will be 0, and hence $X_{new}$ is 0\n",
    "- On the other hand, when the value of $X$ is the maximum value in the column, the numerator is equal to the denominator and thus the value of $X_{new}$ is 1\n",
    "- If the value of $X$ is between the minimum and the maximum value, then the value of $X_{new}$ is between 0 and 1"
   ]
  },
  {
   "cell_type": "markdown",
   "metadata": {},
   "source": [
    "**Exercise**\n",
    "\n",
    "Implement in Pandas the Min-Max scaling of the `numeric_attr` for the car data. It is important to reload the data!"
   ]
  },
  {
   "cell_type": "code",
   "execution_count": null,
   "metadata": {},
   "outputs": [],
   "source": [
    "# Your code here"
   ]
  },
  {
   "cell_type": "markdown",
   "metadata": {},
   "source": [
    "**Exercise**\n",
    "\n",
    "Repeat the exercise by using the `MinMaxScaler` of Sklearn. Have a look at the documentation."
   ]
  },
  {
   "cell_type": "code",
   "execution_count": null,
   "metadata": {},
   "outputs": [],
   "source": [
    "# Your code here"
   ]
  },
  {
   "cell_type": "markdown",
   "metadata": {},
   "source": [
    "### 3. Exploratory Data Analysis\n",
    "\n",
    "Data exploration refers to the preliminary investigation of data in order\n",
    "to better understand its specific characteristics. There are two key motivations for data exploration:\n",
    "1. To help users select the appropriate preprocessing and data analysis technique used.\n",
    "2. To make use of humans’ abilities to recognize patterns in the data."
   ]
  },
  {
   "cell_type": "markdown",
   "metadata": {},
   "source": [
    "#### 3.1. Summary Statistics\n",
    "\n",
    "Summary statistics are quantities, such as the mean and standard deviation, that capture various characteristics of a potentially large set of values with a single number or a small set of numbers. You will use the Iris sample data, which contains information on 150 Iris flowers, 50 each from one of three Iris species: Setosa, Versicolour, and Virginica. Each flower is characterized by five attributes:\n",
    "\n",
    "- sepal length in centimeters\n",
    "\n",
    "- sepal width in centimeters\n",
    "\n",
    "- petal length in centimeters\n",
    "\n",
    "- petal width in centimeters\n",
    "\n",
    "- class (Setosa, Versicolour, Virginica) \n",
    "\n",
    "You will practice to compute various summary statistics from the DataFrame."
   ]
  },
  {
   "cell_type": "markdown",
   "metadata": {},
   "source": [
    "**Exercise 3.1.**\n",
    "\n",
    "1. Download the <a href=\"http://archive.ics.uci.edu/ml/datasets/Iris\">Iris dataset</a> from the UCI machine learning repository. It is a `csv` file named `iris.data`.\n",
    "2. Load the dataset in a Pandas dataframe.\n",
    "3. Assign the dataframe the following column names: `['sepal length', 'sepal width', 'petal length', 'petal width', 'class']`.\n",
    "4. Display the first 60 lines of the dataframe.\n",
    "5. What are the categorical and numerical attributes?\n",
    "6. Visualize the summary statistics for both features/attributes and the class.\n",
    "7. Visualize an overview of the data (e.g., number of samples, columns, non-null objects, data types).\n",
    "8. Why does not the class attribute have some statistics?"
   ]
  },
  {
   "cell_type": "code",
   "execution_count": null,
   "metadata": {},
   "outputs": [],
   "source": [
    "# Your code here"
   ]
  },
  {
   "cell_type": "code",
   "execution_count": null,
   "metadata": {},
   "outputs": [],
   "source": [
    "# Your code here"
   ]
  },
  {
   "cell_type": "code",
   "execution_count": null,
   "metadata": {},
   "outputs": [],
   "source": [
    "# Your code here"
   ]
  },
  {
   "cell_type": "markdown",
   "metadata": {},
   "source": [
    "**Exercise 3.2.**\n",
    "\n",
    "Repeat point 1, 2, 4, 5, 6, 7 for the [CarBuyers](https://www.kaggle.com/brijlaldhankour/car-buyers) dataset."
   ]
  },
  {
   "cell_type": "code",
   "execution_count": null,
   "metadata": {},
   "outputs": [],
   "source": [
    "# Your code here"
   ]
  },
  {
   "cell_type": "markdown",
   "metadata": {},
   "source": [
    "Some attributes are regarded as strings but are ordinal attributes! This is due to a wrong data format that has to be fixed. This is a nice example on the noise in data and how it has to be fixed with ad-hoc solutions."
   ]
  },
  {
   "cell_type": "code",
   "execution_count": 20,
   "metadata": {},
   "outputs": [
    {
     "name": "stdout",
     "output_type": "stream",
     "text": [
      "       Manufacturer  Model        Price  Transmission        Power  \\\n",
      "count          6092   6092  6092.000000   6092.000000  6092.000000   \n",
      "unique           52    501          NaN           NaN          NaN   \n",
      "top            Ford  Space          NaN           NaN          NaN   \n",
      "freq            355     49          NaN           NaN          NaN   \n",
      "mean            NaN    NaN    41.230074      5.131491   111.478881   \n",
      "std             NaN    NaN    51.357916      1.343858    67.621849   \n",
      "min             NaN    NaN     3.332200      0.000000    15.600000   \n",
      "25%             NaN    NaN    18.513000      4.600000    70.250000   \n",
      "50%             NaN    NaN    29.043000      5.000000    94.062500   \n",
      "75%             NaN    NaN    43.863631      5.966102   121.857143   \n",
      "max             NaN    NaN   646.605000      8.277311   450.000000   \n",
      "\n",
      "          Engine CC         Fuel          Male         Female       Unknown  \\\n",
      "count   6092.000000  6092.000000  6.092000e+03    6092.000000   6092.000000   \n",
      "unique          NaN          NaN           NaN            NaN           NaN   \n",
      "top             NaN          NaN           NaN            NaN           NaN   \n",
      "freq            NaN          NaN           NaN            NaN           NaN   \n",
      "mean    1982.083952     1.140348  3.292463e+04   20048.715693   2458.240151   \n",
      "std      817.410323     0.364444  8.126167e+04   60647.613543   5797.111820   \n",
      "min        0.000000     1.000000  2.910000e+02      30.000000     13.000000   \n",
      "25%     1497.127119     1.000000  2.773250e+03     878.500000    166.750000   \n",
      "50%     1832.888889     1.000000  8.079000e+03    3366.000000    548.000000   \n",
      "75%     2247.333333     1.000000  2.532200e+04   12070.000000   1937.000000   \n",
      "max     6208.000000     3.000000  1.007113e+06  789633.000000  56487.000000   \n",
      "\n",
      "               Total  \n",
      "count   6.092000e+03  \n",
      "unique           NaN  \n",
      "top              NaN  \n",
      "freq             NaN  \n",
      "mean    5.543158e+04  \n",
      "std     1.412886e+05  \n",
      "min     1.001000e+03  \n",
      "25%     3.940250e+03  \n",
      "50%     1.273150e+04  \n",
      "75%     4.059525e+04  \n",
      "max     1.561512e+06  \n"
     ]
    }
   ],
   "source": [
    "def cell2int(x):\n",
    "  return int(x.replace(\",\", \"\"))\n",
    "\n",
    "car_data['Male'] = car_data['Male'].apply(cell2int)\n",
    "car_data['Female'] = car_data['Female'].apply(cell2int)\n",
    "car_data['Unknown'] = car_data['Unknown'].apply(cell2int)\n",
    "car_data['Total'] = car_data['Total'].apply(cell2int)\n",
    "print(car_data.describe(include='all'))"
   ]
  },
  {
   "cell_type": "markdown",
   "metadata": {},
   "source": [
    "#### 3.2. Data Visualization\n",
    "\n",
    "**Excercise 3.3.**\n",
    "\n",
    "- Understand the car buyers dataset, what does it contain?\n",
    "- Select the data about the manufacturers Seat, Fiat and BMW.\n",
    "- Plot the histograms for the price and the power attributes of Seat (2 different figures).\n",
    "- Plot the histograms for the price and the power attributes of BMW (2 different figures)."
   ]
  },
  {
   "cell_type": "code",
   "execution_count": null,
   "metadata": {},
   "outputs": [],
   "source": [
    "# Your code here"
   ]
  },
  {
   "cell_type": "markdown",
   "metadata": {},
   "source": [
    "**Excercise 3.4.**\n",
    "\n",
    "- Plot the box plot for the male and the female attributes of Seat (in the same figure).\n",
    "- Plot the box plot for the male and the female attributes of BMW (in the same figure).\n",
    "- Plot the box plot for the price and the power attributes of Seat (in the same figure).\n",
    "- Plot the box plot for the price and the power attributes of BMW (in the same figure)."
   ]
  },
  {
   "cell_type": "code",
   "execution_count": null,
   "metadata": {},
   "outputs": [],
   "source": [
    "# Your code here"
   ]
  },
  {
   "cell_type": "markdown",
   "metadata": {},
   "source": [
    "**Excercise 3.5.**\n",
    "\n",
    "- For each class in the Iris dataset, plot the box plots for the four numeric attributes: one figure for each class containing the four attributes."
   ]
  },
  {
   "cell_type": "code",
   "execution_count": null,
   "metadata": {},
   "outputs": [],
   "source": [
    "# Your code here"
   ]
  },
  {
   "cell_type": "markdown",
   "metadata": {},
   "source": [
    "**Excercise 3.6.**\n",
    "\n",
    "- Plot the scatter plot of the Iris Dataset seen in class during the lecture on EDA by avoiding to plot repeated pairs of features.\n",
    "- Are the classes easly separable?\n",
    "- Are there correlated features?"
   ]
  },
  {
   "cell_type": "code",
   "execution_count": null,
   "metadata": {},
   "outputs": [],
   "source": [
    "# Your code here"
   ]
  },
  {
   "cell_type": "markdown",
   "metadata": {},
   "source": [
    "The previous exercise is good for coding. From now on you can use Seaborn for your pairplots."
   ]
  },
  {
   "cell_type": "code",
   "execution_count": null,
   "metadata": {},
   "outputs": [],
   "source": [
    "import seaborn as sns\n",
    "import matplotlib.pyplot as plt\n",
    "\n",
    "sns.pairplot(iris_data, hue=\"class\")\n",
    "\n",
    "# save the plot as JPG file\n",
    "plt.savefig(\"iris_pairplot.jpg\", dpi=300)\n",
    "\n",
    "plt.show()"
   ]
  }
 ],
 "metadata": {
  "colab": {
   "authorship_tag": "ABX9TyN8yeVEZT9Ru2aNPCgxhHM9",
   "collapsed_sections": [],
   "mount_file_id": "1H5sznu66yVegqbRqVM4UAKx0GpVOXXB2",
   "name": "Lab1_Solution.ipynb",
   "provenance": []
  },
  "kernelspec": {
   "display_name": "Python 3 (ipykernel)",
   "language": "python",
   "name": "python3"
  },
  "language_info": {
   "codemirror_mode": {
    "name": "ipython",
    "version": 3
   },
   "file_extension": ".py",
   "mimetype": "text/x-python",
   "name": "python",
   "nbconvert_exporter": "python",
   "pygments_lexer": "ipython3",
   "version": "3.11.4"
  }
 },
 "nbformat": 4,
 "nbformat_minor": 4
}
