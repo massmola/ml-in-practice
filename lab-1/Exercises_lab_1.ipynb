{
 "cells": [
  {
   "cell_type": "markdown",
   "id": "6eb9d27e",
   "metadata": {},
   "source": [
    "# Markdown Syntax\n",
    "\n",
    "write something like this (you can loook at [here](https://www.markdownguide.org/basic-syntax/) for the syntax):\n",
    "\n",
    "Title 1 (in heading 1)\n",
    "\n",
    "Lorem ipsum dolor sit amet, consectetur adipiscing elit. Donec blandit id ligula in fringilla. Phasellus pharetra augue id ex condimentum, finibus gravida ligula finibus. Quisque non posuere est, sed gravida neque. Nulla fermentum nibh sit amet augue dictum, vel ullamcorper nunc aliquam. Suspendisse ultricies faucibus sem, at volutpat felis tincidunt non. Donec a enim ac mauris porttitor pellentesque non vel odio. Suspendisse eu ex ut urna lobortis luctus. Curabitur scelerisque augue non metus dictum volutpat.\n",
    "\n",
    "Title 2 (in heading 2)\n",
    "\n",
    "Lorem ipsum dolor sit amet, consectetur adipiscing elit. Donec blandit id ligula in fringilla. Phasellus pharetra augue id ex condimentum, finibus gravida ligula finibus.\n",
    "\n",
    "Enumerated list (in heading 3)\n",
    "\n",
    "an enumerated list with bold and italics words.\n",
    "\n",
    "Code Section (in heading 3)\n",
    "\n",
    "All this code below in coding style\n",
    "\n",
    "# Compute the x and y coordinates for points on sine and cosine curves\n",
    "x = np.arange(0, 3 * np.pi, 0.1)\n",
    "y_sin = np.sin(x)\n",
    "y_cos = np.cos(x)\n",
    "\n",
    "# Set up a subplot grid that has height 2 and width 1, and set the first such subplot as active.\n",
    "plt.subplot(2, 1, 1)\n",
    "\n",
    "# Make the first plot\n",
    "plt.plot(x, y_sin)\n",
    "plt.title('Sine')\n",
    "\n",
    "# Set the second subplot as active, and make the second plot.\n",
    "plt.subplot(2, 1, 2)\n",
    "plt.plot(x, y_cos)\n",
    "plt.title('Cosine')\n",
    "\n",
    "\n",
    "# Show the figure.\n",
    "plt.show()\n",
    "x = np.arange(0, 3 * np.pi, 0.1)\n",
    "y_sin = np.sin(x)\n",
    "y_cos = np.cos(x)\n",
    "\n",
    "# Set up a subplot grid that has height 2 and width 1,\n",
    "# and set the first such subplot as active.\n",
    "plt.subplot(2, 1, 1)\n",
    "\n",
    "# Make the first plot\n",
    "plt.plot(x, y_sin)\n",
    "plt.title('Sine')\n",
    "\n",
    "# Set the second subplot as active, and make the second plot.\n",
    "plt.subplot(2, 1, 2)\n",
    "plt.plot(x, y_cos)\n",
    "plt.title('Cosine')\n",
    "\n",
    "\n",
    "# Show the figure.\n",
    "plt.show()"
   ]
  },
  {
   "cell_type": "markdown",
   "id": "37fe78fe",
   "metadata": {},
   "source": [
    "# Python\n",
    "\n",
    "The following dict reports the number of animals that passed in a day in front of an hidden camera in a week. Save the average of these passages (in a `csv` file) according to the animal names in a query list. `Nan` values are excluded from the average. Then, open such a file and display each line in string format as \"{animal_name} passed {average with 2 decimals} times per day in the last week.\"\n",
    "\n",
    "Hint: use list comprehension to filter out `nan` values. You have to check whether a queried animal is in the dict. Write a function to compute the average."
   ]
  },
  {
   "cell_type": "code",
   "execution_count": null,
   "id": "5eabad53",
   "metadata": {},
   "outputs": [],
   "source": [
    "animal_passages = {'Bears': [1, 0, 1, 2, 'nan', 1,'nan'],\n",
    "                  'Wolves': [5, 3, 'nan', 4, 0, 3,'nan'],\n",
    "                  'Deers': [4, 5, 1, 2, 'nan', 3, 5]}\n",
    "query_list = ['Bears', 'Deers', 'Wild boar']"
   ]
  },
  {
   "cell_type": "markdown",
   "id": "302c8677",
   "metadata": {},
   "source": [
    "# Numpy\n",
    "\n",
    "## Arrays\n",
    "\n",
    "1. Create and print matrix M from the following python list `[[1, 2, 3, 4], [5, 6, 7, 8], [9, 10, 11, 12], [13, 14, 15, 16]]`;\n",
    "2. print the shape of M;\n",
    "3. access and print row # 1 of M;\n",
    "4. access and print col # 2 of M;\n",
    "5. access and print a submatrix of M: rows 1 and 2, cols 0 and 1;\n",
    "6. Flatten the matrix M;\n",
    "7. Reshape a matrix (you choose number of rows and cols);\n",
    "8. Computing the max and the min of M;\n",
    "9. Computing the mean and standard deviation of M;\n",
    "10. Print the even elements of M: don't use loops but conditions on arrays.\n",
    "\n",
    "Hint: search on the Numpy doc the right functions."
   ]
  },
  {
   "cell_type": "markdown",
   "id": "b3d4db91",
   "metadata": {},
   "source": [
    "## Broadcasting and Vectorization\n",
    "\n",
    "You are given two arrays of different size and you have to take a product of every combination of elements of the two arrays and then sum them up. For example, for arrays `[1, 2, 3]` and `[4, 5]`, the sum would be 1x4+2x4+3x4+1x5+2x5+3x5 = 54.\n",
    "\n",
    "1. Write a naïve Python function to compute such a sum;\n",
    "2. Write a vectorized Numpy function to compute such a sum;"
   ]
  },
  {
   "cell_type": "code",
   "execution_count": null,
   "id": "97d18f7d",
   "metadata": {},
   "outputs": [],
   "source": [
    "import numpy as np\n",
    "\n",
    "def special_sum(arr1, arr2):\n",
    "    # your code here\n",
    "\n",
    "\n",
    "def special_sum_vectorized(arr1, arr2):\n",
    "    # your code here"
   ]
  },
  {
   "cell_type": "markdown",
   "id": "f0b70dd0",
   "metadata": {},
   "source": [
    "Now it is the time to compare the performance of the two functions on arrays of increasing sizes. Understand and execute the following code."
   ]
  },
  {
   "cell_type": "code",
   "execution_count": null,
   "id": "09adc0ef",
   "metadata": {},
   "outputs": [],
   "source": [
    "import time\n",
    "\n",
    "array_sizes = [(10, 8), (100, 80), (1000, 800), (10000, 8000), (20000, 16000)]\n",
    "times = []\n",
    "times_vectorized = []\n",
    "for sizes in array_sizes:\n",
    "    arr1 = np.random.random(sizes[0])\n",
    "    arr2 = np.random.random(sizes[1])\n",
    "\n",
    "    start = time.time()\n",
    "    special_sum(arr1, arr2)\n",
    "    end = time.time()\n",
    "    times.append(end - start)\n",
    "    \n",
    "    start = time.time()\n",
    "    special_sum_vectorized(arr1, arr2)\n",
    "    end = time.time()\n",
    "    times_vectorized.append(end - start)"
   ]
  },
  {
   "cell_type": "markdown",
   "id": "3b7f1bca",
   "metadata": {},
   "source": [
    "Use Matplotlib to plot the computational times of the two functions. On the x-axis you will have the sizes of the bigger array, on the y-axis the computational times. Plot also a legend."
   ]
  },
  {
   "cell_type": "code",
   "execution_count": null,
   "id": "d9e28ddf",
   "metadata": {},
   "outputs": [],
   "source": [
    "# your code here"
   ]
  },
  {
   "cell_type": "markdown",
   "id": "54b365d1",
   "metadata": {},
   "source": [
    "## Slicing\n",
    "\n",
    "Slicing operations can also boost the performance of your code. Imagine you are given a set of samples of a function $y(x)$ and you want to compute the first and second derivatives. The approximation of the first and second derivatives are:\n",
    "\n",
    "<div align=\"center\">$y'(x) = y_i - y_{i-1}$</div>\n",
    "<div align=\"center\">$y''(x) = -2*y_i + y_{i-1} + y_{i+1}$</div>\n",
    "\n",
    "*Example:* let $y(x)$ the values of the function $x^2$ over the sequence `x = [0, 1, 2, 3, 4, 5]`: `y = [0, 1, 4, 9, 16, 25]`, therefore the first derivative of $x^2$ on the values in `y` will be `y' = [1, 3, 5, 7, 9]`.\n",
    "\n",
    "As above, write some naïve Python functions to compute such a derivatives and compare them with the corresponding Numpy vectorization.\n",
    "\n",
    "*Hint:* in this case use slicing in the Numpy vectorization. In addition, an example of $y(x)$ function is provided."
   ]
  },
  {
   "cell_type": "code",
   "execution_count": 10,
   "id": "3c845aec",
   "metadata": {},
   "outputs": [
    {
     "data": {
      "text/plain": [
       "[<matplotlib.lines.Line2D at 0x7fb210864970>]"
      ]
     },
     "execution_count": 10,
     "metadata": {},
     "output_type": "execute_result"
    },
    {
     "data": {
      "image/png": "[encoded data removed]",
      "text/plain": [
       "<Figure size 640x480 with 1 Axes>"
      ]
     },
     "metadata": {},
     "output_type": "display_data"
    }
   ],
   "source": [
    "import numpy as np\n",
    "import matplotlib.pyplot as plt\n",
    "x = np.linspace(0.75, 3.25, 10)\n",
    "y = -(x-2)**2 +2\n",
    "\n",
    "plt.plot(x, y)"
   ]
  },
  {
   "cell_type": "code",
   "execution_count": null,
   "id": "ba7f3d77",
   "metadata": {},
   "outputs": [],
   "source": [
    "import numpy as np\n",
    "\n",
    "def first_finite_diff(y):\n",
    "    # your code here\n",
    "\n",
    "def first_finite_diff_vectorized(y):\n",
    "    # your code here\n",
    "\n",
    "def second_finite_diff(y):\n",
    "    # your code here\n",
    "\n",
    "def second_finite_diff_vectorized(y):\n",
    "    # your code here"
   ]
  },
  {
   "cell_type": "markdown",
   "id": "ef8448ac",
   "metadata": {},
   "source": [
    "Now it is the time to compare the performance of the two functions on arrays of increasing sizes. Understand and execute the following code."
   ]
  },
  {
   "cell_type": "code",
   "execution_count": null,
   "id": "228b3cc4",
   "metadata": {},
   "outputs": [],
   "source": [
    "num_samples_list = [1000, 10000, 100000, 1000000, 10000000]\n",
    "\n",
    "first_derivative_times = []\n",
    "first_derivative_times_vectorized = []\n",
    "second_derivative_times = []\n",
    "second_derivative_times_vectorized = []\n",
    "\n",
    "for num_samples in num_samples_list:\n",
    "    x = np.linspace(0.75, 3.25, num_samples)\n",
    "    y = -(x-2)**2 +2\n",
    "\n",
    "    start = time.time()\n",
    "    _ = first_finite_diff(y)\n",
    "    end = time.time()\n",
    "    first_derivative_times.append(end - start)\n",
    "    \n",
    "    start = time.time()\n",
    "    _ = first_finite_diff_vectorized(y)\n",
    "    end = time.time()\n",
    "    first_derivative_times_vectorized.append(end - start)\n",
    "    \n",
    "    start = time.time()\n",
    "    _ = second_finite_diff(y)\n",
    "    end = time.time()\n",
    "    second_derivative_times.append(end - start)\n",
    "    \n",
    "    start = time.time()\n",
    "    _ = second_finite_diff_vectorized(y)\n",
    "    end = time.time()\n",
    "    second_derivative_times_vectorized.append(end - start)"
   ]
  },
  {
   "cell_type": "markdown",
   "id": "5685defe",
   "metadata": {},
   "source": [
    "Use Matplotlib to plot the computational times of the two **first** derivative functions. On the x-axis you will have the number of samples, on the y-axis the computational times. Plot also a legend."
   ]
  },
  {
   "cell_type": "code",
   "execution_count": null,
   "id": "ab8663ed",
   "metadata": {},
   "outputs": [],
   "source": [
    "# your code here"
   ]
  },
  {
   "cell_type": "markdown",
   "id": "722c4929",
   "metadata": {},
   "source": [
    "Use Matplotlib to plot the computational times of the two **second** derivative functions. On the x-axis you will have the number of samples, on the y-axis the computational times. Plot also a legend."
   ]
  },
  {
   "cell_type": "code",
   "execution_count": null,
   "id": "77c13d49",
   "metadata": {},
   "outputs": [],
   "source": [
    "# your code here"
   ]
  },
  {
   "cell_type": "markdown",
   "id": "35631ad0",
   "metadata": {},
   "source": [
    "# Matplotlib\n",
    "\n",
    "Plot a in 2x2 grid the Gaussian function with different values for $\\mu$ and $\\sigma$. First row: $\\mu=-1$, second row $\\mu=0$. First column $\\sigma=1$, second column $\\sigma=2$. Use for loops for grid creation/activation.\n",
    "\n",
    "Hints, generates $x$ values with `x = np.linspace(-5, 5, 200)` (search what `linspace` does). The Gaussian is generated with `y = np.exp(-((x-mu)**2)/(2*sigma**2))`."
   ]
  },
  {
   "cell_type": "markdown",
   "id": "76057294",
   "metadata": {},
   "source": [
    "# Pandas\n",
    "\n",
    "1. Import the US Baby Names `.csv` dataset in a Pandas dataframe (look in the Pandas doc the right function);\n",
    "2. visualize the first 10 entries and try to understand the meaning of the columns/data;\n",
    "3. what is the number of observations in the dataset?\n",
    "4. What is the number of columns in the dataset?\n",
    "5. What are the indexes of the dataset?\n",
    "6. What are the names and genders of the samples from 50 to 100? \n",
    "7. delete the columns 'Unnamed: 0' and 'Id' and visualize the dataset;\n",
    "8. are there more male or female names in the dataset?\n",
    "9. How many different names exist in the dataset?\n",
    "10. Get a summary with the mean, min, max, std and quartiles."
   ]
  },
  {
   "cell_type": "code",
   "execution_count": 37,
   "id": "96abc599-4819-4d64-ad4e-363831e617a6",
   "metadata": {},
   "outputs": [],
   "source": [
    "# YOUR CODE HERE"
   ]
  },
  {
   "cell_type": "markdown",
   "id": "19915314-a5be-43a9-b870-bdbb75fd4e7b",
   "metadata": {},
   "source": [
    "Consider the following set of documents and their word counts:\n",
    "1. convert them in a document-term matrix;\n",
    "2. convert each feature value in a frequence of that word for that document. *Hint* `df.div(df.sum(axis=1), axis=0)` can help;\n",
    "4. discover possible clusters."
   ]
  },
  {
   "cell_type": "code",
   "execution_count": 36,
   "id": "ded13ab0",
   "metadata": {},
   "outputs": [],
   "source": [
    "import pandas as pd\n",
    "pd.set_option('display.max_columns', None)\n",
    "\n",
    "data = {1: {\"dollar\": 1, \"industry\": 4, \"country\": 2, \"loan\": 3, \"deal\": 2, \"government\": 2},\n",
    "       2: {\"machinery\": 2, \"labor\": 3, \"market\": 4, \"industry\": 2, \"work\": 3, \"country\": 1},\n",
    "       3: {\"job\": 5, \"inflation\": 3, \"rise\": 2, \"jobless\": 2, \"market\": 3, \"country\": 2, \"index\": 3},\n",
    "        4: {\"domestic\": 3, \"forecast\": 2, \"gain\": 1, \"market\": 2, \"sale\": 3, \"price\": 2},\n",
    "        5: {\"patient\": 4, \"symptom\": 2, \"drug\": 3, \"health\": 2, \"clinic\": 2, \"doctor\": 2},\n",
    "        6: {\"pharmaceutical\": 2, \"company\": 3, \"drug\": 2, \"vaccine\": 1, \"flu\": 3},\n",
    "        7: {\"death\": 2, \"cancer\": 4, \"drug\": 3, \"public\": 4, \"health\": 3, \"director\": 2},\n",
    "        8: {\"medical\": 2, \"cost\": 3, \"increase\": 2, \"patient\": 2, \"health\": 3, \"care\": 1}}\n",
    "\n",
    "# YOUR CODE HERE"
   ]
  }
 ],
 "metadata": {
  "kernelspec": {
   "display_name": "Python 3 (ipykernel)",
   "language": "python",
   "name": "python3"
  },
  "language_info": {
   "codemirror_mode": {
    "name": "ipython",
    "version": 3
   },
   "file_extension": ".py",
   "mimetype": "text/x-python",
   "name": "python",
   "nbconvert_exporter": "python",
   "pygments_lexer": "ipython3",
   "version": "3.11.4"
  }
 },
 "nbformat": 4,
 "nbformat_minor": 5
}
